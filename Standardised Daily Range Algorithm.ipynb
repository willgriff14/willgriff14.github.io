{
 "cells": [
  {
   "cell_type": "code",
   "execution_count": 9,
   "metadata": {},
   "outputs": [],
   "source": [
    "import yfinance as yf\n",
    "import pandas as pd\n",
    "import numpy as np\n",
    "import datetime\n",
    "import matplotlib.pyplot as plt\n",
    "plt.style.use('classic')\n",
    "%matplotlib inline\n",
    "import seaborn as sns\n",
    "sns.set()"
   ]
  },
  {
   "cell_type": "code",
   "execution_count": 10,
   "metadata": {},
   "outputs": [],
   "source": [
    "# function to calculate my measure of stock volatility\n",
    "# daily range divided by the median daily value\n",
    "\n",
    "def wills_volatility(ticker):\n",
    "    x = yf.Ticker(ticker).history(period='MAX')\n",
    "    ans = []\n",
    "    high = x['High']\n",
    "    low = x['Low']\n",
    "    mean = (abs(high)+abs(low))/2\n",
    "    dr = abs(high-low)\n",
    "    ans = (((dr/mean)*1000)+10)\n",
    "    hi = pd.DataFrame(data=x)\n",
    "    hi['Wills Volatility Measure'] = ans\n",
    "    hi['Date'] = hi.index\n",
    "    return(hi)"
   ]
  },
  {
   "cell_type": "code",
   "execution_count": 11,
   "metadata": {},
   "outputs": [],
   "source": [
    "test = wills_volatility(\"^FTSE\")\n",
    "# This function works!"
   ]
  },
  {
   "cell_type": "code",
   "execution_count": 12,
   "metadata": {},
   "outputs": [],
   "source": [
    "# I will get the past 5 years of data to test suitability of this measure\n",
    "\n",
    "vix = yf.Ticker(\"^VIX\").history(period='5Y')\n",
    "SandP500 = yf.Ticker(\"^GSPC\").history(period='5Y')"
   ]
  },
  {
   "cell_type": "code",
   "execution_count": 13,
   "metadata": {},
   "outputs": [],
   "source": [
    "# This code calculates the daily range of a stock\n",
    "# I then divide it by the median daily value to standardise\n",
    "High = SandP500['High'] \n",
    "Low = SandP500['Low']\n",
    "day_range = abs((High)-(Low))\n",
    "day_mean = (abs(High)+abs(Low))/2\n",
    "SDR = ((day_range/(day_mean))*1000)+10"
   ]
  },
  {
   "cell_type": "code",
   "execution_count": 14,
   "metadata": {},
   "outputs": [
    {
     "data": {
      "text/plain": [
       "0.8068185350337577"
      ]
     },
     "execution_count": 14,
     "metadata": {},
     "output_type": "execute_result"
    }
   ],
   "source": [
    "# test correlation between standardised daily range I calculated\n",
    "# and the vix index to check suitability.\n",
    "SDR.corr(vix['Close'])"
   ]
  },
  {
   "cell_type": "code",
   "execution_count": 15,
   "metadata": {},
   "outputs": [],
   "source": [
    "# 0.807 shows a strong positive correlation\n",
    "# therefore I will use this as a measure of volatility"
   ]
  },
  {
   "cell_type": "code",
   "execution_count": null,
   "metadata": {},
   "outputs": [],
   "source": [
    "# Now I will create a function that performs this calculation\n",
    "# automatically for any ticker from yahoo finance\n",
    "# and returns the augmented Pandas dataframe"
   ]
  },
  {
   "cell_type": "code",
   "execution_count": null,
   "metadata": {},
   "outputs": [],
   "source": [
    "# I will will export to a csv file and then read back in\n",
    "# to use within the alignment alogrithm to align dates\n",
    "# and calculate moving averages of the volatility metric\n",
    "df_test.to_csv('Algo Test.csv')\n",
    "ftse = pd.read_csv('Algo Test.csv')"
   ]
  },
  {
   "cell_type": "code",
   "execution_count": null,
   "metadata": {},
   "outputs": [],
   "source": [
    "def Align_my_data(data):\n",
    "    hurricanes = pd.read_csv('hurricanes_scraped.csv') # read in hurricane data\n",
    "    hurricanes = hurricanes.rename(columns={'Date of closest approach': 'Date'})\n",
    "    for x in range(0,len(hurricanes)): # this loop formats date column to match dates\n",
    "        hurricanes['Date'][x] = hurricanes['Date'][x].replace(\"00:00:00\", \"\").replace(\" \", \"\")\n",
    "    zing = data\n",
    "    MA21 = [] # I will now create 21 point (day) moving average series\n",
    "    for y in range(0,21):\n",
    "        MA21.append('NaN')\n",
    "    for x in range(21,len(zing)):\n",
    "        MA21.append((sum(zing['Wills Volatility Measure'][x-21:x])/21))\n",
    "    zing['MA21'] = MA21\n",
    "    Trailing21 = [] # I will also create a 21 point (day) trailing moving average series\n",
    "    for y in range(0,35):\n",
    "        Trailing21.append('NaN')\n",
    "    for x in range(35,len(zing)):\n",
    "        Trailing21.append((sum(zing['Wills Volatility Measure'][x-35:x-14])/21))\n",
    "    zing['Trailing MA'] = Trailing21\n",
    "    zing_box = []\n",
    "    date_box = []\n",
    "    hurricane_box = []\n",
    "    MA21_box = []\n",
    "    Trailing21_box = []\n",
    "    for x in range(0,len(hurricanes['Date'])): # loops over hurricane hit dates\n",
    "        for y in range(0, len(zing['Date'])): # loops over dates of time series to align with hurricanes\n",
    "            if hurricanes['Date'][x] == zing['Date'][y]: # uses boolean to check whether dates match\n",
    "                zing_box.append(zing['Wills Volatility Measure'][y])\n",
    "                date_box.append(hurricanes['Date'][x])\n",
    "                hurricane_box.append(hurricanes['Saffir-Simpson Category'][x])\n",
    "                MA21_box.append(zing['MA21'][y])\n",
    "                Trailing21_box.append(zing['Trailing MA'][y])\n",
    "    \n",
    "    result = pd.DataFrame({'Hurricane Hit Date': date_box,'Hurricane Category': hurricane_box,'Wills Volatility Measure': zing_box, 'Volatility Measure MA': MA21_box, 'Volatility Measure Trailing MA': Trailing21_box})\n",
    "    return(result)"
   ]
  },
  {
   "cell_type": "code",
   "execution_count": null,
   "metadata": {},
   "outputs": [],
   "source": [
    "a = Align_my_data(ftse)"
   ]
  },
  {
   "cell_type": "code",
   "execution_count": null,
   "metadata": {},
   "outputs": [],
   "source": [
    "a"
   ]
  }
 ],
 "metadata": {
  "kernelspec": {
   "display_name": "Python 3",
   "language": "python",
   "name": "python3"
  },
  "language_info": {
   "codemirror_mode": {
    "name": "ipython",
    "version": 3
   },
   "file_extension": ".py",
   "mimetype": "text/x-python",
   "name": "python",
   "nbconvert_exporter": "python",
   "pygments_lexer": "ipython3",
   "version": "3.8.5"
  }
 },
 "nbformat": 4,
 "nbformat_minor": 4
}
