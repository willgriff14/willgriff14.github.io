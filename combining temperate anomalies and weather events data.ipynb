{
 "cells": [
  {
   "cell_type": "code",
   "execution_count": 10,
   "metadata": {},
   "outputs": [],
   "source": [
    "import pandas as pd\n",
    "import numpy as np\n",
    "import yfinance as yf"
   ]
  },
  {
   "cell_type": "code",
   "execution_count": 11,
   "metadata": {},
   "outputs": [],
   "source": [
    "SandP500 = yf.Ticker(\"^GSPC\").history(period='MAX') # retrieves S&P500 data via Yahoo Finance API"
   ]
  },
  {
   "cell_type": "code",
   "execution_count": 12,
   "metadata": {},
   "outputs": [],
   "source": [
    "\n",
    "High = SandP500['High'] \n",
    "Low = SandP500['Low']\n",
    "day_range = abs((High)-(Low))\n",
    "day_mean = (abs(High)+abs(Low))/2\n",
    "SDR = ((day_range/(day_mean))*1000)+10"
   ]
  },
  {
   "cell_type": "code",
   "execution_count": 13,
   "metadata": {},
   "outputs": [],
   "source": [
    "SandP500['Wills Volatility Measure'] = SDR # Adds my computed volatilities as an additional dataframe column"
   ]
  },
  {
   "cell_type": "code",
   "execution_count": 14,
   "metadata": {},
   "outputs": [],
   "source": [
    "SandP500 = SandP500.loc['1979-01-01':'2021-10-06']"
   ]
  },
  {
   "cell_type": "code",
   "execution_count": 15,
   "metadata": {},
   "outputs": [],
   "source": [
    "# I will calculate yearly volatility average (there are 252 trading days per year)\n",
    "box = [] \n",
    "\n",
    "for x in range(252,len(SandP500),252):\n",
    "    box.append((sum(SandP500['Wills Volatility Measure'][x-252:x])/252))"
   ]
  },
  {
   "cell_type": "code",
   "execution_count": 16,
   "metadata": {},
   "outputs": [],
   "source": [
    "# Read in weather events data to align\n",
    "data = pd.read_csv('time-series-US-1980-2021.csv')\n",
    "data['yearly average volatility'] = box\n",
    "df = data "
   ]
  },
  {
   "cell_type": "code",
   "execution_count": 17,
   "metadata": {},
   "outputs": [],
   "source": [
    "a = pd.read_csv('temp anomolies.csv')"
   ]
  },
  {
   "cell_type": "code",
   "execution_count": 18,
   "metadata": {},
   "outputs": [],
   "source": [
    "df['temp anomolies'] = a['Value']"
   ]
  },
  {
   "cell_type": "code",
   "execution_count": 19,
   "metadata": {},
   "outputs": [],
   "source": [
    "df.to_csv('temps volatility disasters.csv')"
   ]
  },
  {
   "cell_type": "code",
   "execution_count": null,
   "metadata": {},
   "outputs": [],
   "source": []
  }
 ],
 "metadata": {
  "kernelspec": {
   "display_name": "Python 3",
   "language": "python",
   "name": "python3"
  },
  "language_info": {
   "codemirror_mode": {
    "name": "ipython",
    "version": 3
   },
   "file_extension": ".py",
   "mimetype": "text/x-python",
   "name": "python",
   "nbconvert_exporter": "python",
   "pygments_lexer": "ipython3",
   "version": "3.8.5"
  }
 },
 "nbformat": 4,
 "nbformat_minor": 4
}
