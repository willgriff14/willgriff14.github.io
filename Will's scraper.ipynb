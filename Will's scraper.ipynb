{
 "cells": [
  {
   "cell_type": "code",
   "execution_count": 53,
   "metadata": {},
   "outputs": [],
   "source": [
    "import time\n",
    "import datetime\n",
    "import pandas as pd"
   ]
  },
  {
   "cell_type": "code",
   "execution_count": 54,
   "metadata": {},
   "outputs": [],
   "source": [
    "ticks = ['^VIX', '^RUT', '^INDIAVIX', '^VXFXI']"
   ]
  },
  {
   "cell_type": "code",
   "execution_count": 55,
   "metadata": {},
   "outputs": [],
   "source": [
    "interval = '1wk'"
   ]
  },
  {
   "cell_type": "code",
   "execution_count": 57,
   "metadata": {},
   "outputs": [
    {
     "name": "stdout",
     "output_type": "stream",
     "text": [
      "https://query1.finance.yahoo.com/v7/finance/download/^VIX?period1=691631940&period2=1609459140&interval=1wk&events=history&includeAdjustedClose=true\n",
      "            Date       Open       High        Low      Close  Adj Close  \\\n",
      "0     1991-12-02  20.180000  20.190001  19.040001  19.040001  19.040001   \n",
      "1     1991-12-09  19.740000  20.570000  17.879999  17.879999  17.879999   \n",
      "2     1991-12-16  17.620001  18.120001  17.620001  17.650000  17.650000   \n",
      "3     1991-12-23  16.610001  16.610001  15.440000  15.700000  15.700000   \n",
      "4     1991-12-30  17.629999  20.150000  17.040001  18.750000  18.750000   \n",
      "...          ...        ...        ...        ...        ...        ...   \n",
      "1513  2020-11-30  22.639999  22.889999  19.969999  20.790001  20.790001   \n",
      "1514  2020-12-07  22.040001  25.139999  20.100000  23.309999  23.309999   \n",
      "1515  2020-12-14  22.670000  24.820000  21.520000  21.570000  21.570000   \n",
      "1516  2020-12-21  24.250000  31.459999  21.389999  21.530001  21.530001   \n",
      "1517  2020-12-28  22.110001  23.719999  20.990000  22.750000  22.750000   \n",
      "\n",
      "      Volume  \n",
      "0          0  \n",
      "1          0  \n",
      "2          0  \n",
      "3          0  \n",
      "4          0  \n",
      "...      ...  \n",
      "1513       0  \n",
      "1514       0  \n",
      "1515       0  \n",
      "1516       0  \n",
      "1517       0  \n",
      "\n",
      "[1518 rows x 7 columns]\n"
     ]
    }
   ],
   "source": [
    "vix_ticker = '^VIX'\n",
    "vix_period1 = int(time.mktime(datetime.datetime(1991, 12, 1, 23, 59).timetuple()))\n",
    "vix_period2 = int(time.mktime(datetime.datetime(2020, 12, 31, 23, 59).timetuple()))\n",
    "vix_query_string = f'https://query1.finance.yahoo.com/v7/finance/download/{vix_ticker}?period1={vix_period1}&period2={vix_period2}&interval={interval}&events=history&includeAdjustedClose=true'\n",
    "print(vix_query_string)\n",
    "vix_df = pd.read_csv(vix_query_string)\n",
    "print(vix_df)"
   ]
  },
  {
   "cell_type": "code",
   "execution_count": 59,
   "metadata": {},
   "outputs": [
    {
     "name": "stdout",
     "output_type": "stream",
     "text": [
      "https://query1.finance.yahoo.com/v7/finance/download/^RUT?period1=691631940&period2=1609459140&interval=1wk&events=history&includeAdjustedClose=true\n",
      "            Date         Open         High          Low        Close  \\\n",
      "0     1991-12-02   176.369995   177.899994   174.610001   177.539993   \n",
      "1     1991-12-09   177.550003   177.869995   174.429993   177.500000   \n",
      "2     1991-12-16   177.490005   178.600006   175.910004   176.070007   \n",
      "3     1991-12-23   176.080002   184.229996   176.059998   184.229996   \n",
      "4     1991-12-30   184.229996   192.149994   184.229996   192.089996   \n",
      "...          ...          ...          ...          ...          ...   \n",
      "1513  2020-11-30  1854.869995  1892.449951  1813.560059  1892.449951   \n",
      "1514  2020-12-07  1892.719971  1935.270020  1881.699951  1911.699951   \n",
      "1515  2020-12-14  1914.150024  1992.719971  1913.859985  1969.989990   \n",
      "1516  2020-12-21  1967.930054  2013.969971  1934.660034  2003.949951   \n",
      "1517  2020-12-28  2013.489990  2026.239990  1950.819946  1974.859985   \n",
      "\n",
      "        Adj Close       Volume  \n",
      "0      177.539993    925420000  \n",
      "1      177.500000    961310000  \n",
      "2      176.070007   1070280000  \n",
      "3      184.229996    698170000  \n",
      "4      192.089996    915960000  \n",
      "...           ...          ...  \n",
      "1513  1892.449951  26902810000  \n",
      "1514  1911.699951  23533560000  \n",
      "1515  1969.989990  24265420000  \n",
      "1516  2003.949951  14413820000  \n",
      "1517  1974.859985  13232200000  \n",
      "\n",
      "[1518 rows x 7 columns]\n"
     ]
    }
   ],
   "source": [
    "rut_ticker = '^RUT'\n",
    "rut_period1 = int(time.mktime(datetime.datetime(1991, 12, 1, 23, 59).timetuple()))\n",
    "rut_period2 = int(time.mktime(datetime.datetime(2020, 12, 31, 23, 59).timetuple()))\n",
    "rut_query_string = f'https://query1.finance.yahoo.com/v7/finance/download/{rut_ticker}?period1={rut_period1}&period2={rut_period2}&interval={interval}&events=history&includeAdjustedClose=true'\n",
    "print(rut_query_string)\n",
    "rut_df = pd.read_csv(rut_query_string)\n",
    "print(rut_df)"
   ]
  },
  {
   "cell_type": "code",
   "execution_count": null,
   "metadata": {},
   "outputs": [],
   "source": []
  },
  {
   "cell_type": "code",
   "execution_count": null,
   "metadata": {},
   "outputs": [],
   "source": []
  },
  {
   "cell_type": "code",
   "execution_count": null,
   "metadata": {},
   "outputs": [],
   "source": []
  },
  {
   "cell_type": "code",
   "execution_count": null,
   "metadata": {},
   "outputs": [],
   "source": []
  },
  {
   "cell_type": "code",
   "execution_count": null,
   "metadata": {},
   "outputs": [],
   "source": []
  },
  {
   "cell_type": "code",
   "execution_count": null,
   "metadata": {
    "scrolled": true
   },
   "outputs": [],
   "source": []
  },
  {
   "cell_type": "code",
   "execution_count": null,
   "metadata": {},
   "outputs": [],
   "source": []
  },
  {
   "cell_type": "code",
   "execution_count": null,
   "metadata": {},
   "outputs": [],
   "source": []
  }
 ],
 "metadata": {
  "kernelspec": {
   "display_name": "Python 3",
   "language": "python",
   "name": "python3"
  },
  "language_info": {
   "codemirror_mode": {
    "name": "ipython",
    "version": 3
   },
   "file_extension": ".py",
   "mimetype": "text/x-python",
   "name": "python",
   "nbconvert_exporter": "python",
   "pygments_lexer": "ipython3",
   "version": "3.8.5"
  }
 },
 "nbformat": 4,
 "nbformat_minor": 4
}
