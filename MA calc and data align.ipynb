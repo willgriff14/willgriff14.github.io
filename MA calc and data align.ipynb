{
 "cells": [
  {
   "cell_type": "code",
   "execution_count": 2,
   "metadata": {},
   "outputs": [],
   "source": [
    "import yfinance as yf\n",
    "import pandas as pd\n",
    "import numpy as np\n",
    "import datetime"
   ]
  },
  {
   "cell_type": "code",
   "execution_count": 3,
   "metadata": {},
   "outputs": [],
   "source": [
    "# I created a function where you enter yahoo ticker name\n",
    "# and it calculates volatilty, volatility moving averages\n",
    "# aligns these calculations to dates when hurricanes have hit\n",
    "# the US and then returns them in a pandas dataframe"
   ]
  },
  {
   "cell_type": "code",
   "execution_count": 4,
   "metadata": {},
   "outputs": [],
   "source": [
    "def align_my_data(yahoo_ticker):\n",
    "    # this first part of the function calculates my measure of volatility\n",
    "    # from the Yfinance ticker entered\n",
    "    name = yahoo_ticker\n",
    "    x = yf.Ticker(yahoo_ticker).history(period='MAX')\n",
    "    high = x['High']\n",
    "    low = x['Low']\n",
    "    mean = (abs(high)+abs(low))/2\n",
    "    dr = abs(high-low)\n",
    "    ans = ((dr/mean)*1000)+10\n",
    "    hi = pd.DataFrame(data=x)\n",
    "    hi['Wills Volatility Measure'] = ans\n",
    "    hi['Date'] = hi.index\n",
    "    \n",
    "    # I needed to export this to a CSV and read back in for it to work\n",
    "    hi.to_csv('in progress.csv') \n",
    "    data = pd.read_csv('in progress.csv')\n",
    "    \n",
    "    # this next section of the function aligns stock volatility data to hurricane data\n",
    "    # it takes inputs of the dataframe created in the first section of the function\n",
    "    # and the ticker name entered\n",
    "    \n",
    "    def Align_my_data(data, name):\n",
    "        hurricanes = pd.read_csv('hurricanes_scraped.csv') # reads in hurricane data\n",
    "        hurricanes = hurricanes.rename(columns={'Date of closest approach': 'Date'})\n",
    "        for x in range(0,len(hurricanes)): # this loop formats hurricane data to match format of volatility data\n",
    "            hurricanes['Date'][x] = hurricanes['Date'][x].replace(\"00:00:00\", \"\").replace(\" \", \"\")\n",
    "        zing = data\n",
    "        \n",
    "        # I will now create 21 point (day) moving average series\n",
    "        MA21 = [] \n",
    "        for y in range(0,21):\n",
    "            MA21.append('NaN')\n",
    "        for x in range(21,len(zing)):\n",
    "            MA21.append((sum(zing['Wills Volatility Measure'][x-21:x])/21))\n",
    "        zing['MA21'] = MA21 # this is a list of the moving average calculations\n",
    "        \n",
    "        # I will also calculate a 21-point (21 trading days in a month) trailing moving average series\n",
    "        Trailing21 = [] \n",
    "        for y in range(0,35):\n",
    "            Trailing21.append('NaN')\n",
    "        for x in range(35,len(zing)):\n",
    "            Trailing21.append((sum(zing['Wills Volatility Measure'][x-35:x-14])/21))\n",
    "        zing['Trailing MA'] = Trailing21 # this is a list of the trailing MA\n",
    "        \n",
    "        # I will create empty lists to append same number of data points to each\n",
    "        # from my loops, so all lists will be the same length and aligned correctly\n",
    "        zing_box = []\n",
    "        ticker = []\n",
    "        date_box = []\n",
    "        hurricane_box = []\n",
    "        MA21_box = []\n",
    "        Trailing21_box = []\n",
    "        \n",
    "        diff_ma_box = []\n",
    "        diff_tma_box = []\n",
    "\n",
    "        # this next part of the function uses boolean to check whether\n",
    "        # dates match, if they do then it appends data required to our empty lists\n",
    "        for x in range(0,len(hurricanes['Date'])): # loops over hurricane hit dates\n",
    "            for y in range(0, len(zing['Date'])): # loops over dates of time series to align with hurricanes\n",
    "                if hurricanes['Date'][x] == zing['Date'][y]: # uses boolean to check whether dates match\n",
    "                    zing_box.append(zing['Wills Volatility Measure'][y])\n",
    "                    date_box.append(hurricanes['Date'][x])\n",
    "                    hurricane_box.append(hurricanes['Saffir-Simpson Category'][x])\n",
    "                    MA21_box.append(zing['MA21'][y])\n",
    "                    Trailing21_box.append(zing['Trailing MA'][y])\n",
    "                    # next I will calculate the differnce between volatility measure and their moving avareges\n",
    "                    diff_ma_box.append((zing['Wills Volatility Measure'][y]-zing['MA21'][y]))\n",
    "                    diff_tma_box.append((zing['Wills Volatility Measure'][y]-zing['Trailing MA'][y]))\n",
    "                    ticker.append(name)\n",
    "                    \n",
    "        # I will combine all the lists created into a Pandas dataframe\n",
    "        result = pd.DataFrame({'Symbol': ticker, 'Hurricane Date': date_box,'Hurricane Category': hurricane_box,'Wills Volatility Measure': zing_box, 'Volatility Measure MA': MA21_box, 'Volatility Measure Trailing MA': Trailing21_box, 'MA Difference': diff_ma_box, 'TMA Difference': diff_tma_box})\n",
    "        \n",
    "        # Cleans data for zero values\n",
    "        # calculations are to a very high degree of accuracy\n",
    "        # therefore any zero values in moving average differences will be removed\n",
    "        for x in range(0,len(result)): # now we need to drop zero values\n",
    "            if result['MA Difference'][x] == 0:\n",
    "                result.drop(index = [x] , inplace = True)\n",
    "        \n",
    "        # return dataframe we created to the outer function\n",
    "        return(result)\n",
    "    \n",
    "    # return results\n",
    "    return(Align_my_data(data,name))"
   ]
  },
  {
   "cell_type": "code",
   "execution_count": 5,
   "metadata": {},
   "outputs": [
    {
     "name": "stderr",
     "output_type": "stream",
     "text": [
      "<ipython-input-4-fb6d17e5f698>:27: SettingWithCopyWarning: \n",
      "A value is trying to be set on a copy of a slice from a DataFrame\n",
      "\n",
      "See the caveats in the documentation: https://pandas.pydata.org/pandas-docs/stable/user_guide/indexing.html#returning-a-view-versus-a-copy\n",
      "  hurricanes['Date'][x] = hurricanes['Date'][x].replace(\"00:00:00\", \"\").replace(\" \", \"\")\n"
     ]
    }
   ],
   "source": [
    "sandp = align_my_data(\"^GSPC\")"
   ]
  },
  {
   "cell_type": "code",
   "execution_count": 12,
   "metadata": {},
   "outputs": [
    {
     "data": {
      "text/html": [
       "<div>\n",
       "<style scoped>\n",
       "    .dataframe tbody tr th:only-of-type {\n",
       "        vertical-align: middle;\n",
       "    }\n",
       "\n",
       "    .dataframe tbody tr th {\n",
       "        vertical-align: top;\n",
       "    }\n",
       "\n",
       "    .dataframe thead th {\n",
       "        text-align: right;\n",
       "    }\n",
       "</style>\n",
       "<table border=\"1\" class=\"dataframe\">\n",
       "  <thead>\n",
       "    <tr style=\"text-align: right;\">\n",
       "      <th></th>\n",
       "      <th>Symbol</th>\n",
       "      <th>Hurricane Date</th>\n",
       "      <th>Hurricane Category</th>\n",
       "      <th>Wills Volatility Measure</th>\n",
       "      <th>Volatility Measure MA</th>\n",
       "      <th>Volatility Measure Trailing MA</th>\n",
       "      <th>MA Difference</th>\n",
       "      <th>TMA Difference</th>\n",
       "    </tr>\n",
       "  </thead>\n",
       "  <tbody>\n",
       "    <tr>\n",
       "      <th>0</th>\n",
       "      <td>^GSPC</td>\n",
       "      <td>2003-09-18</td>\n",
       "      <td>2</td>\n",
       "      <td>23.950302</td>\n",
       "      <td>20.233923</td>\n",
       "      <td>21.249859</td>\n",
       "      <td>3.716379</td>\n",
       "      <td>2.700443</td>\n",
       "    </tr>\n",
       "    <tr>\n",
       "      <th>1</th>\n",
       "      <td>^GSPC</td>\n",
       "      <td>2004-09-16</td>\n",
       "      <td>3</td>\n",
       "      <td>15.065872</td>\n",
       "      <td>17.962117</td>\n",
       "      <td>20.382792</td>\n",
       "      <td>-2.896245</td>\n",
       "      <td>-5.316920</td>\n",
       "    </tr>\n",
       "    <tr>\n",
       "      <th>2</th>\n",
       "      <td>^GSPC</td>\n",
       "      <td>2004-08-13</td>\n",
       "      <td>4</td>\n",
       "      <td>16.446446</td>\n",
       "      <td>21.157197</td>\n",
       "      <td>19.375114</td>\n",
       "      <td>-4.710751</td>\n",
       "      <td>-2.928668</td>\n",
       "    </tr>\n",
       "    <tr>\n",
       "      <th>3</th>\n",
       "      <td>^GSPC</td>\n",
       "      <td>2004-09-16</td>\n",
       "      <td>3</td>\n",
       "      <td>15.065872</td>\n",
       "      <td>17.962117</td>\n",
       "      <td>20.382792</td>\n",
       "      <td>-2.896245</td>\n",
       "      <td>-5.316920</td>\n",
       "    </tr>\n",
       "    <tr>\n",
       "      <th>4</th>\n",
       "      <td>^GSPC</td>\n",
       "      <td>2005-08-29</td>\n",
       "      <td>3</td>\n",
       "      <td>20.555466</td>\n",
       "      <td>17.848863</td>\n",
       "      <td>16.947224</td>\n",
       "      <td>2.706603</td>\n",
       "      <td>3.608242</td>\n",
       "    </tr>\n",
       "    <tr>\n",
       "      <th>5</th>\n",
       "      <td>^GSPC</td>\n",
       "      <td>2005-08-25</td>\n",
       "      <td>3</td>\n",
       "      <td>13.433363</td>\n",
       "      <td>18.010988</td>\n",
       "      <td>17.388075</td>\n",
       "      <td>-4.577625</td>\n",
       "      <td>-3.954712</td>\n",
       "    </tr>\n",
       "  </tbody>\n",
       "</table>\n",
       "</div>"
      ],
      "text/plain": [
       "  Symbol Hurricane Date  Hurricane Category  Wills Volatility Measure  \\\n",
       "0  ^GSPC     2003-09-18                   2                 23.950302   \n",
       "1  ^GSPC     2004-09-16                   3                 15.065872   \n",
       "2  ^GSPC     2004-08-13                   4                 16.446446   \n",
       "3  ^GSPC     2004-09-16                   3                 15.065872   \n",
       "4  ^GSPC     2005-08-29                   3                 20.555466   \n",
       "5  ^GSPC     2005-08-25                   3                 13.433363   \n",
       "\n",
       "   Volatility Measure MA  Volatility Measure Trailing MA  MA Difference  \\\n",
       "0              20.233923                       21.249859       3.716379   \n",
       "1              17.962117                       20.382792      -2.896245   \n",
       "2              21.157197                       19.375114      -4.710751   \n",
       "3              17.962117                       20.382792      -2.896245   \n",
       "4              17.848863                       16.947224       2.706603   \n",
       "5              18.010988                       17.388075      -4.577625   \n",
       "\n",
       "   TMA Difference  \n",
       "0        2.700443  \n",
       "1       -5.316920  \n",
       "2       -2.928668  \n",
       "3       -5.316920  \n",
       "4        3.608242  \n",
       "5       -3.954712  "
      ]
     },
     "execution_count": 12,
     "metadata": {},
     "output_type": "execute_result"
    }
   ],
   "source": [
    "sandp.head(6) # great, this fuction works!"
   ]
  },
  {
   "cell_type": "code",
   "execution_count": null,
   "metadata": {},
   "outputs": [],
   "source": [
    "# The run time is not great for this function\n",
    "# therefore, I will not use a loop to put through indices all at once.\n",
    "# I will now extract and align indices data for analysis using this function\n",
    "# I will then concatonate them into a one dataframe"
   ]
  },
  {
   "cell_type": "code",
   "execution_count": 10,
   "metadata": {},
   "outputs": [
    {
     "name": "stderr",
     "output_type": "stream",
     "text": [
      "<ipython-input-3-062657c24c53>:20: SettingWithCopyWarning: \n",
      "A value is trying to be set on a copy of a slice from a DataFrame\n",
      "\n",
      "See the caveats in the documentation: https://pandas.pydata.org/pandas-docs/stable/user_guide/indexing.html#returning-a-view-versus-a-copy\n",
      "  hurricanes['Date'][x] = hurricanes['Date'][x].replace(\"00:00:00\", \"\").replace(\" \", \"\")\n"
     ]
    }
   ],
   "source": [
    "dji = align_my_data(\"^DJI\")"
   ]
  },
  {
   "cell_type": "code",
   "execution_count": 11,
   "metadata": {},
   "outputs": [
    {
     "name": "stderr",
     "output_type": "stream",
     "text": [
      "<ipython-input-3-062657c24c53>:20: SettingWithCopyWarning: \n",
      "A value is trying to be set on a copy of a slice from a DataFrame\n",
      "\n",
      "See the caveats in the documentation: https://pandas.pydata.org/pandas-docs/stable/user_guide/indexing.html#returning-a-view-versus-a-copy\n",
      "  hurricanes['Date'][x] = hurricanes['Date'][x].replace(\"00:00:00\", \"\").replace(\" \", \"\")\n"
     ]
    }
   ],
   "source": [
    "nasdaq = align_my_data(\"^IXIC\")"
   ]
  },
  {
   "cell_type": "code",
   "execution_count": 12,
   "metadata": {},
   "outputs": [
    {
     "name": "stderr",
     "output_type": "stream",
     "text": [
      "<ipython-input-3-062657c24c53>:20: SettingWithCopyWarning: \n",
      "A value is trying to be set on a copy of a slice from a DataFrame\n",
      "\n",
      "See the caveats in the documentation: https://pandas.pydata.org/pandas-docs/stable/user_guide/indexing.html#returning-a-view-versus-a-copy\n",
      "  hurricanes['Date'][x] = hurricanes['Date'][x].replace(\"00:00:00\", \"\").replace(\" \", \"\")\n"
     ]
    }
   ],
   "source": [
    "rus2000 = align_my_data(\"^RUT\")"
   ]
  },
  {
   "cell_type": "code",
   "execution_count": 13,
   "metadata": {},
   "outputs": [
    {
     "name": "stderr",
     "output_type": "stream",
     "text": [
      "<ipython-input-3-062657c24c53>:20: SettingWithCopyWarning: \n",
      "A value is trying to be set on a copy of a slice from a DataFrame\n",
      "\n",
      "See the caveats in the documentation: https://pandas.pydata.org/pandas-docs/stable/user_guide/indexing.html#returning-a-view-versus-a-copy\n",
      "  hurricanes['Date'][x] = hurricanes['Date'][x].replace(\"00:00:00\", \"\").replace(\" \", \"\")\n"
     ]
    }
   ],
   "source": [
    "ftse = align_my_data(\"^FTSE\")"
   ]
  },
  {
   "cell_type": "code",
   "execution_count": 14,
   "metadata": {},
   "outputs": [
    {
     "name": "stderr",
     "output_type": "stream",
     "text": [
      "<ipython-input-3-062657c24c53>:20: SettingWithCopyWarning: \n",
      "A value is trying to be set on a copy of a slice from a DataFrame\n",
      "\n",
      "See the caveats in the documentation: https://pandas.pydata.org/pandas-docs/stable/user_guide/indexing.html#returning-a-view-versus-a-copy\n",
      "  hurricanes['Date'][x] = hurricanes['Date'][x].replace(\"00:00:00\", \"\").replace(\" \", \"\")\n"
     ]
    }
   ],
   "source": [
    "dax = align_my_data(\"^GDAXI\")"
   ]
  },
  {
   "cell_type": "code",
   "execution_count": 15,
   "metadata": {},
   "outputs": [
    {
     "name": "stderr",
     "output_type": "stream",
     "text": [
      "<ipython-input-3-062657c24c53>:20: SettingWithCopyWarning: \n",
      "A value is trying to be set on a copy of a slice from a DataFrame\n",
      "\n",
      "See the caveats in the documentation: https://pandas.pydata.org/pandas-docs/stable/user_guide/indexing.html#returning-a-view-versus-a-copy\n",
      "  hurricanes['Date'][x] = hurricanes['Date'][x].replace(\"00:00:00\", \"\").replace(\" \", \"\")\n"
     ]
    }
   ],
   "source": [
    "cac = align_my_data(\"^FCHI\")"
   ]
  },
  {
   "cell_type": "code",
   "execution_count": 40,
   "metadata": {},
   "outputs": [
    {
     "name": "stderr",
     "output_type": "stream",
     "text": [
      "<ipython-input-3-062657c24c53>:20: SettingWithCopyWarning: \n",
      "A value is trying to be set on a copy of a slice from a DataFrame\n",
      "\n",
      "See the caveats in the documentation: https://pandas.pydata.org/pandas-docs/stable/user_guide/indexing.html#returning-a-view-versus-a-copy\n",
      "  hurricanes['Date'][x] = hurricanes['Date'][x].replace(\"00:00:00\", \"\").replace(\" \", \"\")\n"
     ]
    },
    {
     "data": {
      "text/plain": [
       "3"
      ]
     },
     "execution_count": 40,
     "metadata": {},
     "output_type": "execute_result"
    }
   ],
   "source": [
    "stoxx50 = align_my_data(\"^STOXX50E\")\n",
    "len(stoxx50)"
   ]
  },
  {
   "cell_type": "code",
   "execution_count": null,
   "metadata": {},
   "outputs": [],
   "source": [
    "# I will concat these dataframe into one file"
   ]
  },
  {
   "cell_type": "code",
   "execution_count": 41,
   "metadata": {},
   "outputs": [],
   "source": [
    "indicies = pd.concat([sandp,dji,nasdaq,rus2000,ftse,dax,cac], axis = 0)"
   ]
  },
  {
   "cell_type": "code",
   "execution_count": 42,
   "metadata": {},
   "outputs": [
    {
     "data": {
      "text/html": [
       "<div>\n",
       "<style scoped>\n",
       "    .dataframe tbody tr th:only-of-type {\n",
       "        vertical-align: middle;\n",
       "    }\n",
       "\n",
       "    .dataframe tbody tr th {\n",
       "        vertical-align: top;\n",
       "    }\n",
       "\n",
       "    .dataframe thead th {\n",
       "        text-align: right;\n",
       "    }\n",
       "</style>\n",
       "<table border=\"1\" class=\"dataframe\">\n",
       "  <thead>\n",
       "    <tr style=\"text-align: right;\">\n",
       "      <th></th>\n",
       "      <th>Symbol</th>\n",
       "      <th>Hurricane Date</th>\n",
       "      <th>Hurricane Category</th>\n",
       "      <th>Wills Volatility Measure</th>\n",
       "      <th>Volatility Measure MA</th>\n",
       "      <th>Volatility Measure Trailing MA</th>\n",
       "      <th>MA Difference</th>\n",
       "      <th>TMA Difference</th>\n",
       "    </tr>\n",
       "  </thead>\n",
       "  <tbody>\n",
       "    <tr>\n",
       "      <th>0</th>\n",
       "      <td>^GSPC</td>\n",
       "      <td>2003-09-18</td>\n",
       "      <td>2</td>\n",
       "      <td>23.950302</td>\n",
       "      <td>20.233923</td>\n",
       "      <td>21.249859</td>\n",
       "      <td>3.716379</td>\n",
       "      <td>2.700443</td>\n",
       "    </tr>\n",
       "    <tr>\n",
       "      <th>1</th>\n",
       "      <td>^GSPC</td>\n",
       "      <td>2004-09-16</td>\n",
       "      <td>3</td>\n",
       "      <td>15.065872</td>\n",
       "      <td>17.962117</td>\n",
       "      <td>20.382792</td>\n",
       "      <td>-2.896245</td>\n",
       "      <td>-5.316920</td>\n",
       "    </tr>\n",
       "    <tr>\n",
       "      <th>2</th>\n",
       "      <td>^GSPC</td>\n",
       "      <td>2004-08-13</td>\n",
       "      <td>4</td>\n",
       "      <td>16.446446</td>\n",
       "      <td>21.157197</td>\n",
       "      <td>19.375114</td>\n",
       "      <td>-4.710751</td>\n",
       "      <td>-2.928668</td>\n",
       "    </tr>\n",
       "    <tr>\n",
       "      <th>3</th>\n",
       "      <td>^GSPC</td>\n",
       "      <td>2004-09-16</td>\n",
       "      <td>3</td>\n",
       "      <td>15.065872</td>\n",
       "      <td>17.962117</td>\n",
       "      <td>20.382792</td>\n",
       "      <td>-2.896245</td>\n",
       "      <td>-5.316920</td>\n",
       "    </tr>\n",
       "    <tr>\n",
       "      <th>4</th>\n",
       "      <td>^GSPC</td>\n",
       "      <td>2005-08-29</td>\n",
       "      <td>3</td>\n",
       "      <td>20.555466</td>\n",
       "      <td>17.848863</td>\n",
       "      <td>16.947224</td>\n",
       "      <td>2.706603</td>\n",
       "      <td>3.608242</td>\n",
       "    </tr>\n",
       "    <tr>\n",
       "      <th>...</th>\n",
       "      <td>...</td>\n",
       "      <td>...</td>\n",
       "      <td>...</td>\n",
       "      <td>...</td>\n",
       "      <td>...</td>\n",
       "      <td>...</td>\n",
       "      <td>...</td>\n",
       "      <td>...</td>\n",
       "    </tr>\n",
       "    <tr>\n",
       "      <th>26</th>\n",
       "      <td>^FCHI</td>\n",
       "      <td>1998-08-27</td>\n",
       "      <td>2</td>\n",
       "      <td>38.584618</td>\n",
       "      <td>30.090427</td>\n",
       "      <td>24.317934</td>\n",
       "      <td>8.494191</td>\n",
       "      <td>14.266684</td>\n",
       "    </tr>\n",
       "    <tr>\n",
       "      <th>27</th>\n",
       "      <td>^FCHI</td>\n",
       "      <td>1999-09-16</td>\n",
       "      <td>2</td>\n",
       "      <td>20.941558</td>\n",
       "      <td>23.530387</td>\n",
       "      <td>25.593046</td>\n",
       "      <td>-2.588830</td>\n",
       "      <td>-4.651488</td>\n",
       "    </tr>\n",
       "    <tr>\n",
       "      <th>28</th>\n",
       "      <td>^FCHI</td>\n",
       "      <td>1999-10-18</td>\n",
       "      <td>2</td>\n",
       "      <td>23.120406</td>\n",
       "      <td>23.337838</td>\n",
       "      <td>22.954276</td>\n",
       "      <td>-0.217432</td>\n",
       "      <td>0.166130</td>\n",
       "    </tr>\n",
       "    <tr>\n",
       "      <th>29</th>\n",
       "      <td>^FCHI</td>\n",
       "      <td>1999-08-23</td>\n",
       "      <td>3</td>\n",
       "      <td>22.021855</td>\n",
       "      <td>25.527241</td>\n",
       "      <td>25.139610</td>\n",
       "      <td>-3.505386</td>\n",
       "      <td>-3.117755</td>\n",
       "    </tr>\n",
       "    <tr>\n",
       "      <th>30</th>\n",
       "      <td>^FCHI</td>\n",
       "      <td>1999-09-16</td>\n",
       "      <td>4</td>\n",
       "      <td>20.941558</td>\n",
       "      <td>23.530387</td>\n",
       "      <td>25.593046</td>\n",
       "      <td>-2.588830</td>\n",
       "      <td>-4.651488</td>\n",
       "    </tr>\n",
       "  </tbody>\n",
       "</table>\n",
       "<p>227 rows × 8 columns</p>\n",
       "</div>"
      ],
      "text/plain": [
       "   Symbol Hurricane Date  Hurricane Category  Wills Volatility Measure  \\\n",
       "0   ^GSPC     2003-09-18                   2                 23.950302   \n",
       "1   ^GSPC     2004-09-16                   3                 15.065872   \n",
       "2   ^GSPC     2004-08-13                   4                 16.446446   \n",
       "3   ^GSPC     2004-09-16                   3                 15.065872   \n",
       "4   ^GSPC     2005-08-29                   3                 20.555466   \n",
       "..    ...            ...                 ...                       ...   \n",
       "26  ^FCHI     1998-08-27                   2                 38.584618   \n",
       "27  ^FCHI     1999-09-16                   2                 20.941558   \n",
       "28  ^FCHI     1999-10-18                   2                 23.120406   \n",
       "29  ^FCHI     1999-08-23                   3                 22.021855   \n",
       "30  ^FCHI     1999-09-16                   4                 20.941558   \n",
       "\n",
       "    Volatility Measure MA  Volatility Measure Trailing MA  MA Difference  \\\n",
       "0               20.233923                       21.249859       3.716379   \n",
       "1               17.962117                       20.382792      -2.896245   \n",
       "2               21.157197                       19.375114      -4.710751   \n",
       "3               17.962117                       20.382792      -2.896245   \n",
       "4               17.848863                       16.947224       2.706603   \n",
       "..                    ...                             ...            ...   \n",
       "26              30.090427                       24.317934       8.494191   \n",
       "27              23.530387                       25.593046      -2.588830   \n",
       "28              23.337838                       22.954276      -0.217432   \n",
       "29              25.527241                       25.139610      -3.505386   \n",
       "30              23.530387                       25.593046      -2.588830   \n",
       "\n",
       "    TMA Difference  \n",
       "0         2.700443  \n",
       "1        -5.316920  \n",
       "2        -2.928668  \n",
       "3        -5.316920  \n",
       "4         3.608242  \n",
       "..             ...  \n",
       "26       14.266684  \n",
       "27       -4.651488  \n",
       "28        0.166130  \n",
       "29       -3.117755  \n",
       "30       -4.651488  \n",
       "\n",
       "[227 rows x 8 columns]"
      ]
     },
     "execution_count": 42,
     "metadata": {},
     "output_type": "execute_result"
    }
   ],
   "source": [
    "indicies"
   ]
  },
  {
   "cell_type": "code",
   "execution_count": null,
   "metadata": {},
   "outputs": [],
   "source": [
    "# I will rename ticker symbols to the index name"
   ]
  },
  {
   "cell_type": "code",
   "execution_count": 43,
   "metadata": {},
   "outputs": [],
   "source": [
    "indicies['Symbol'] = indicies['Symbol'].replace('^GSPC', 'S&P 500')"
   ]
  },
  {
   "cell_type": "code",
   "execution_count": 44,
   "metadata": {},
   "outputs": [],
   "source": [
    "indicies['Symbol'] = indicies['Symbol'].replace('^DJI', 'Dow Jones 30')\n",
    "indicies['Symbol'] = indicies['Symbol'].replace('^IXIC', 'Nasdaq')\n",
    "indicies['Symbol'] = indicies['Symbol'].replace('^RUT', 'Russel 2000')\n",
    "indicies['Symbol'] = indicies['Symbol'].replace('^FTSE', 'FTSE 100')\n",
    "indicies['Symbol'] = indicies['Symbol'].replace('^GDAXI', 'DAX')\n",
    "indicies['Symbol'] = indicies['Symbol'].replace('^FCHI', 'CAC 40')"
   ]
  },
  {
   "cell_type": "code",
   "execution_count": null,
   "metadata": {},
   "outputs": [],
   "source": [
    "# Great, this dataset is cleaned and aligned\n",
    "# I will now export it as a csv file"
   ]
  },
  {
   "cell_type": "code",
   "execution_count": 46,
   "metadata": {},
   "outputs": [],
   "source": [
    "indicies.to_csv('indicies.csv')"
   ]
  }
 ],
 "metadata": {
  "kernelspec": {
   "display_name": "Python 3",
   "language": "python",
   "name": "python3"
  },
  "language_info": {
   "codemirror_mode": {
    "name": "ipython",
    "version": 3
   },
   "file_extension": ".py",
   "mimetype": "text/x-python",
   "name": "python",
   "nbconvert_exporter": "python",
   "pygments_lexer": "ipython3",
   "version": "3.8.5"
  }
 },
 "nbformat": 4,
 "nbformat_minor": 4
}
