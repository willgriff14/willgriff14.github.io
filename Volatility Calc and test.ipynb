{
 "cells": [
  {
   "cell_type": "code",
   "execution_count": 22,
   "metadata": {},
   "outputs": [],
   "source": [
    "import yfinance as yf\n",
    "import pandas as pd\n",
    "import numpy as np\n",
    "import datetime"
   ]
  },
  {
   "cell_type": "code",
   "execution_count": 24,
   "metadata": {},
   "outputs": [],
   "source": [
    "# This function automatically calculates my measure of volatility\n",
    "# from entering the yahoo ticker as a string\n",
    "# and returns it as a Pandas dataframe\n",
    "# daily range divided by the median daily value\n",
    "\n",
    "def wills_volatility(ticker):\n",
    "    x = yf.Ticker(ticker).history(period='MAX')\n",
    "    ans = []\n",
    "    high = x['High']\n",
    "    low = x['Low']\n",
    "    mean = (abs(high)+abs(low))/2\n",
    "    dr = abs(high-low)\n",
    "    ans = (((dr/mean)*1000)+10)\n",
    "    hi = pd.DataFrame(data=x)\n",
    "    hi['Wills Volatility Measure'] = ans\n",
    "    hi['Date'] = hi.index\n",
    "    return(hi)"
   ]
  },
  {
   "cell_type": "code",
   "execution_count": 25,
   "metadata": {},
   "outputs": [
    {
     "data": {
      "text/html": [
       "<div>\n",
       "<style scoped>\n",
       "    .dataframe tbody tr th:only-of-type {\n",
       "        vertical-align: middle;\n",
       "    }\n",
       "\n",
       "    .dataframe tbody tr th {\n",
       "        vertical-align: top;\n",
       "    }\n",
       "\n",
       "    .dataframe thead th {\n",
       "        text-align: right;\n",
       "    }\n",
       "</style>\n",
       "<table border=\"1\" class=\"dataframe\">\n",
       "  <thead>\n",
       "    <tr style=\"text-align: right;\">\n",
       "      <th></th>\n",
       "      <th>Open</th>\n",
       "      <th>High</th>\n",
       "      <th>Low</th>\n",
       "      <th>Close</th>\n",
       "      <th>Volume</th>\n",
       "      <th>Dividends</th>\n",
       "      <th>Stock Splits</th>\n",
       "      <th>Wills Volatility Measure</th>\n",
       "      <th>Date</th>\n",
       "    </tr>\n",
       "    <tr>\n",
       "      <th>Date</th>\n",
       "      <th></th>\n",
       "      <th></th>\n",
       "      <th></th>\n",
       "      <th></th>\n",
       "      <th></th>\n",
       "      <th></th>\n",
       "      <th></th>\n",
       "      <th></th>\n",
       "      <th></th>\n",
       "    </tr>\n",
       "  </thead>\n",
       "  <tbody>\n",
       "    <tr>\n",
       "      <th>1984-01-03</th>\n",
       "      <td>997.500000</td>\n",
       "      <td>1001.400024</td>\n",
       "      <td>997.500000</td>\n",
       "      <td>997.500000</td>\n",
       "      <td>0</td>\n",
       "      <td>0</td>\n",
       "      <td>0</td>\n",
       "      <td>13.902171</td>\n",
       "      <td>1984-01-03</td>\n",
       "    </tr>\n",
       "    <tr>\n",
       "      <th>1984-01-04</th>\n",
       "      <td>997.500000</td>\n",
       "      <td>999.500000</td>\n",
       "      <td>993.299988</td>\n",
       "      <td>998.599976</td>\n",
       "      <td>0</td>\n",
       "      <td>0</td>\n",
       "      <td>0</td>\n",
       "      <td>16.222413</td>\n",
       "      <td>1984-01-04</td>\n",
       "    </tr>\n",
       "    <tr>\n",
       "      <th>1984-01-05</th>\n",
       "      <td>1007.099976</td>\n",
       "      <td>1015.799988</td>\n",
       "      <td>1007.099976</td>\n",
       "      <td>1015.799988</td>\n",
       "      <td>0</td>\n",
       "      <td>0</td>\n",
       "      <td>0</td>\n",
       "      <td>18.601525</td>\n",
       "      <td>1984-01-05</td>\n",
       "    </tr>\n",
       "    <tr>\n",
       "      <th>1984-01-06</th>\n",
       "      <td>1019.000000</td>\n",
       "      <td>1029.300049</td>\n",
       "      <td>1019.000000</td>\n",
       "      <td>1029.000000</td>\n",
       "      <td>0</td>\n",
       "      <td>0</td>\n",
       "      <td>0</td>\n",
       "      <td>20.057168</td>\n",
       "      <td>1984-01-06</td>\n",
       "    </tr>\n",
       "    <tr>\n",
       "      <th>1984-01-09</th>\n",
       "      <td>1030.599976</td>\n",
       "      <td>1035.400024</td>\n",
       "      <td>1030.599976</td>\n",
       "      <td>1034.599976</td>\n",
       "      <td>0</td>\n",
       "      <td>0</td>\n",
       "      <td>0</td>\n",
       "      <td>14.646707</td>\n",
       "      <td>1984-01-09</td>\n",
       "    </tr>\n",
       "  </tbody>\n",
       "</table>\n",
       "</div>"
      ],
      "text/plain": [
       "                   Open         High          Low        Close  Volume  \\\n",
       "Date                                                                     \n",
       "1984-01-03   997.500000  1001.400024   997.500000   997.500000       0   \n",
       "1984-01-04   997.500000   999.500000   993.299988   998.599976       0   \n",
       "1984-01-05  1007.099976  1015.799988  1007.099976  1015.799988       0   \n",
       "1984-01-06  1019.000000  1029.300049  1019.000000  1029.000000       0   \n",
       "1984-01-09  1030.599976  1035.400024  1030.599976  1034.599976       0   \n",
       "\n",
       "            Dividends  Stock Splits  Wills Volatility Measure       Date  \n",
       "Date                                                                      \n",
       "1984-01-03          0             0                 13.902171 1984-01-03  \n",
       "1984-01-04          0             0                 16.222413 1984-01-04  \n",
       "1984-01-05          0             0                 18.601525 1984-01-05  \n",
       "1984-01-06          0             0                 20.057168 1984-01-06  \n",
       "1984-01-09          0             0                 14.646707 1984-01-09  "
      ]
     },
     "execution_count": 25,
     "metadata": {},
     "output_type": "execute_result"
    }
   ],
   "source": [
    "test = wills_volatility(\"^FTSE\")\n",
    "test.head(5) # great this works!"
   ]
  },
  {
   "cell_type": "code",
   "execution_count": 26,
   "metadata": {},
   "outputs": [],
   "source": [
    "# Now I will test suitability of my volatility measure"
   ]
  },
  {
   "cell_type": "code",
   "execution_count": 18,
   "metadata": {},
   "outputs": [],
   "source": [
    "# This code retrieves the last 5 years of data for vix and s&p500\n",
    "vix = yf.Ticker(\"^VIX\").history(period='5Y')\n",
    "SandP500 = yf.Ticker(\"^GSPC\").history(period='5Y')"
   ]
  },
  {
   "cell_type": "code",
   "execution_count": 19,
   "metadata": {},
   "outputs": [],
   "source": [
    "# This code calculates my measure of volatility for s&p500\n",
    "High = SandP500['High'] \n",
    "Low = SandP500['Low']\n",
    "day_range = abs((High)-(Low))\n",
    "day_mean = (abs(High)+abs(Low))/2\n",
    "SDR = ((day_range/(day_mean))*1000)+10"
   ]
  },
  {
   "cell_type": "code",
   "execution_count": 20,
   "metadata": {},
   "outputs": [
    {
     "data": {
      "text/plain": [
       "0.8065389739301058"
      ]
     },
     "execution_count": 20,
     "metadata": {},
     "output_type": "execute_result"
    }
   ],
   "source": [
    "# This calculates Pearson's correlation coeffiecient\n",
    "# between my measure of volatility and the VIX\n",
    "\n",
    "SDR.corr(vix['Close'])"
   ]
  },
  {
   "cell_type": "code",
   "execution_count": 21,
   "metadata": {},
   "outputs": [],
   "source": [
    "# 0.8065 gives a strong, positive correlation\n",
    "# between the series, thus my measure of volatility\n",
    "# will be suitable to use from now on."
   ]
  }
 ],
 "metadata": {
  "kernelspec": {
   "display_name": "Python 3",
   "language": "python",
   "name": "python3"
  },
  "language_info": {
   "codemirror_mode": {
    "name": "ipython",
    "version": 3
   },
   "file_extension": ".py",
   "mimetype": "text/x-python",
   "name": "python",
   "nbconvert_exporter": "python",
   "pygments_lexer": "ipython3",
   "version": "3.8.5"
  }
 },
 "nbformat": 4,
 "nbformat_minor": 4
}
