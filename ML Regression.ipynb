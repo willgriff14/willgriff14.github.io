{
 "cells": [
  {
   "cell_type": "code",
   "execution_count": 2,
   "metadata": {},
   "outputs": [],
   "source": [
    "import pandas as pd\n",
    "%matplotlib inline\n",
    "import matplotlib.pyplot as plt\n",
    "import seaborn as sns; sns.set()\n",
    "import numpy as np\n",
    "from sklearn.linear_model import LinearRegression\n",
    "from sklearn.preprocessing import PolynomialFeatures\n",
    "from sklearn.pipeline import make_pipeline\n",
    "import datetime\n",
    "import yfinance as yf"
   ]
  },
  {
   "cell_type": "code",
   "execution_count": 3,
   "metadata": {},
   "outputs": [],
   "source": [
    "SandP500 = yf.Ticker(\"^GSPC\").history(period='MAX') # retrieves S&P500 data via Yahoo Finance API"
   ]
  },
  {
   "cell_type": "code",
   "execution_count": 4,
   "metadata": {},
   "outputs": [],
   "source": [
    "# This next block computes my measure of volatility for the data retrieved\n",
    "\n",
    "High = SandP500['High'] \n",
    "Low = SandP500['Low']\n",
    "day_range = abs((High)-(Low))\n",
    "day_mean = (abs(High)+abs(Low))/2\n",
    "SDR = ((day_range/(day_mean))*1000)+10"
   ]
  },
  {
   "cell_type": "code",
   "execution_count": 5,
   "metadata": {},
   "outputs": [],
   "source": [
    "SandP500['Wills Volatility Measure'] = SDR # Adds my computed volatilities as an additional dataframe column"
   ]
  },
  {
   "cell_type": "code",
   "execution_count": 6,
   "metadata": {},
   "outputs": [],
   "source": [
    "SandP500 = SandP500.loc['1990-01-01':'2021-10-06']"
   ]
  },
  {
   "cell_type": "code",
   "execution_count": 7,
   "metadata": {},
   "outputs": [],
   "source": [
    "# I will calculate yearly volatility average (there are 252 trading days per year)\n",
    "box = [] \n",
    "for y in range(0,11):\n",
    "    box.append(0)\n",
    "for x in range(252,len(SandP500),252):\n",
    "    box.append((sum(SandP500['Wills Volatility Measure'][x-252:x])/252))"
   ]
  },
  {
   "cell_type": "code",
   "execution_count": 8,
   "metadata": {},
   "outputs": [],
   "source": [
    "# Read in weather events data to align\n",
    "data = pd.read_csv('time-series-US-1980-2021.csv')\n",
    "data['yearly average volatility'] = box\n",
    "df = data.iloc[11:] # drop first 11 years to align data"
   ]
  },
  {
   "cell_type": "code",
   "execution_count": 9,
   "metadata": {
    "scrolled": false
   },
   "outputs": [
    {
     "name": "stderr",
     "output_type": "stream",
     "text": [
      "<ipython-input-9-047fb4798e32>:8: FutureWarning: Support for multi-dimensional indexing (e.g. `obj[:, None]`) is deprecated and will be removed in a future version.  Convert to a numpy array before indexing instead.\n",
      "  poly_model.fit(x[:, np.newaxis], y)\n"
     ]
    },
    {
     "data": {
      "image/png": "[encoded data removed]",
      "text/plain": [
       "<Figure size 432x288 with 1 Axes>"
      ]
     },
     "metadata": {},
     "output_type": "display_data"
    }
   ],
   "source": [
    "# Now I can regress year number of climate disasters on volatility\n",
    "\n",
    "x = df['yearly average volatility']\n",
    "y = df['All Disasters Count']\n",
    "\n",
    "poly_model = make_pipeline(PolynomialFeatures(5),\n",
    "                           LinearRegression())\n",
    "poly_model.fit(x[:, np.newaxis], y)\n",
    "xfit = np.linspace(min(x), max(x), 1000)\n",
    "yfit = poly_model.predict(xfit[:, np.newaxis])\n",
    "\n",
    "plt.scatter(x, y)\n",
    "plt.plot(xfit, yfit,color='crimson');\n",
    "plt.xlabel('Wills Volatility Measure Yearly Average')\n",
    "plt.ylabel('Number of Disasters')\n",
    "\n",
    "plt.savefig(\"volatility.png\")"
   ]
  },
  {
   "cell_type": "code",
   "execution_count": 10,
   "metadata": {},
   "outputs": [],
   "source": [
    "# there is no correlation between number of disasters in a year\n",
    "# and mean stock market volatility"
   ]
  },
  {
   "cell_type": "code",
   "execution_count": null,
   "metadata": {},
   "outputs": [],
   "source": []
  }
 ],
 "metadata": {
  "kernelspec": {
   "display_name": "Python 3",
   "language": "python",
   "name": "python3"
  },
  "language_info": {
   "codemirror_mode": {
    "name": "ipython",
    "version": 3
   },
   "file_extension": ".py",
   "mimetype": "text/x-python",
   "name": "python",
   "nbconvert_exporter": "python",
   "pygments_lexer": "ipython3",
   "version": "3.8.5"
  }
 },
 "nbformat": 4,
 "nbformat_minor": 4
}
