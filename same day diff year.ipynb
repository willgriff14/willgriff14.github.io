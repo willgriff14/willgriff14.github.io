{
 "cells": [
  {
   "cell_type": "code",
   "execution_count": 3,
   "source": [
    "import yfinance as yf\n",
    "import pandas as pd\n",
    "import numpy as np\n",
    "import datetime\n",
    "import matplotlib.pyplot as plt\n",
    "plt.style.use('classic')\n",
    "%matplotlib inline\n",
    "import seaborn as sns\n",
    "sns.set()"
   ],
   "outputs": [],
   "metadata": {}
  },
  {
   "cell_type": "code",
   "execution_count": 4,
   "source": [
    "def same_day_algo(yahoo_ticker):\n",
    "    \n",
    "    def same_day_calc(yahoo_ticker):\n",
    "        name = yahoo_ticker\n",
    "        x = yf.Ticker(yahoo_ticker).history(period='MAX')\n",
    "        high = x['High']\n",
    "        low = x['Low']\n",
    "        mean = (abs(high)+abs(low))/2\n",
    "        dr = abs(high-low)\n",
    "        ans = ((dr/mean)*1000)+10\n",
    "        hi = pd.DataFrame(data=x)\n",
    "        hi['Wills Volatility Measure'] = ans\n",
    "        hi['Date'] = hi.index\n",
    "\n",
    "        hi.to_csv('in progress.csv') # I needed to export this to a CSV and read back in for it to work\n",
    "        data = pd.read_csv('in progress.csv')\n",
    "    \n",
    "        def Align_days(data, name):\n",
    "            hurricanes = pd.read_csv('hurricanes_scraped.csv')\n",
    "            hurricanes = hurricanes.rename(columns={'Date of closest approach': 'Date'})\n",
    "            for x in range(0,len(hurricanes)): # this loop formats date column to match dates\n",
    "                hurricanes['Date'][x] = hurricanes['Date'][x].replace(\"00:00:00\", \"\").replace(\" \", \"\")\n",
    "            \n",
    "            datem = []\n",
    "            for x in range(0,len(hurricanes)):\n",
    "                datem.append(datetime.datetime.strptime(hurricanes['Date'][x], \"%Y-%m-%d\"))\n",
    "\n",
    "            dict = {}\n",
    "\n",
    "            for y in range(0,len(data)):\n",
    "                data['Date'][y] = datetime.datetime.strptime(data['Date'][y], \"%Y-%m-%d\")\n",
    "\n",
    "            for i in range(0, len(datem)):\n",
    "    \n",
    "                hello_moto = []\n",
    "    \n",
    "                for j in range(0, len(data)):\n",
    "                    if datem[i].month == data['Date'][j].month and datem[i].day == data['Date'][j].day and datem[i].year != data['Date'][j].year:\n",
    "                        hello_moto.append(data['Wills Volatility Measure'][j])\n",
    "                        bug = sum(hello_moto)/len(hello_moto)\n",
    "                        dict[i] = bug, datem[i].month, datem[i].day, datem[i].year\n",
    "\n",
    "            df = pd.DataFrame.from_dict(dict, orient = 'index')\n",
    "            df = df.rename(columns={0: \"Mean volatility on this day\", 1: \"Month\", 2: \"Day\", 3:\"Year\"})\n",
    "    \n",
    "            df['Month'] = df['Month'].apply(str)\n",
    "            df['Month'] = df['Month'].apply(lambda x: x.zfill(2))\n",
    "            df['Day'] = df['Day'].apply(str)\n",
    "            df['Day'] = df['Day'].apply(lambda x: x.zfill(2))\n",
    "            df['Date'] = df['Month']+'-'+df['Day']\n",
    "            df['Year'] = df['Year'].apply(str)\n",
    "            df['Actual Date'] = df['Year']+'-'+df['Date']\n",
    "        \n",
    "            del df['Day']\n",
    "            del df['Month']\n",
    "        \n",
    "            hurricanes_2 = hurricanes\n",
    "\n",
    "            for j in range(0,len(hurricanes_2)):\n",
    "                hurricanes_2[\"Date\"][j] = hurricanes_2[\"Date\"][j][5:]\n",
    "\n",
    "            return(df)\n",
    "        \n",
    "        return(Align_days(data,name))\n",
    "    \n",
    "    same_day_calc(yahoo_ticker).to_csv('df_in_progress.csv')\n",
    "    name = yahoo_ticker\n",
    "    x = yf.Ticker(yahoo_ticker).history(period='MAX')\n",
    "    high = x['High']\n",
    "    low = x['Low']\n",
    "    mean = (abs(high)+abs(low))/2\n",
    "    dr = abs(high-low)\n",
    "    ans = ((dr/mean)*1000)+10\n",
    "    hi = pd.DataFrame(data=x)\n",
    "    hi['Wills Volatility Measure'] = ans\n",
    "    hi['Date'] = hi.index\n",
    "\n",
    "    hi.to_csv('in progress.csv') # I needed to export this to a CSV and read back in for it to work\n",
    "    data = pd.read_csv('in progress.csv')\n",
    "    \n",
    "    def Align_my_data(data, name):\n",
    "        hurricanes = pd.read_csv('df_in_progress.csv') # read in hurricane data\n",
    "\n",
    "        zing = data\n",
    "        zing_box = []\n",
    "        ticker = []\n",
    "        date_box = []\n",
    "        hurricane_box = []\n",
    "        that_day_box = []\n",
    "\n",
    "        for x in range(0,len(hurricanes['Actual Date'])): # loops over hurricane hit dates\n",
    "            for y in range(0, len(zing['Date'])): # loops over dates of time series to align with hurricanes\n",
    "                if hurricanes['Actual Date'][x] == zing['Date'][y]: # uses boolean to check whether dates match\n",
    "                    zing_box.append(zing['Wills Volatility Measure'][y])\n",
    "                    date_box.append(hurricanes['Actual Date'][x])\n",
    "                    that_day_box.append(hurricanes['Mean volatility on this day'][x])\n",
    "            \n",
    "                    ticker.append(name)\n",
    "\n",
    "        result = pd.DataFrame({'Symbol': ticker, 'Hurricane Date': date_box,'Wills Volatility Measure': zing_box, 'Mean volatility on this day other years': that_day_box})\n",
    "        \n",
    "        for x in range(0,len(result)): # now we need to drop zero values\n",
    "            if result['Wills Volatility Measure'][x] == 10:\n",
    "                result.drop(index = [x] , inplace = True)\n",
    "                \n",
    "        return(result)\n",
    "    \n",
    "    return(Align_my_data(data,name))"
   ],
   "outputs": [],
   "metadata": {}
  },
  {
   "cell_type": "code",
   "execution_count": 5,
   "source": [
    "sandp = same_day_algo(\"^GSPC\")"
   ],
   "outputs": [
    {
     "output_type": "stream",
     "name": "stderr",
     "text": [
      "<ipython-input-4-acfe65e93c67>:22: SettingWithCopyWarning: \n",
      "A value is trying to be set on a copy of a slice from a DataFrame\n",
      "\n",
      "See the caveats in the documentation: https://pandas.pydata.org/pandas-docs/stable/user_guide/indexing.html#returning-a-view-versus-a-copy\n",
      "  hurricanes['Date'][x] = hurricanes['Date'][x].replace(\"00:00:00\", \"\").replace(\" \", \"\")\n",
      "<ipython-input-4-acfe65e93c67>:31: SettingWithCopyWarning: \n",
      "A value is trying to be set on a copy of a slice from a DataFrame\n",
      "\n",
      "See the caveats in the documentation: https://pandas.pydata.org/pandas-docs/stable/user_guide/indexing.html#returning-a-view-versus-a-copy\n",
      "  data['Date'][y] = datetime.datetime.strptime(data['Date'][y], \"%Y-%m-%d\")\n",
      "<ipython-input-4-acfe65e93c67>:60: SettingWithCopyWarning: \n",
      "A value is trying to be set on a copy of a slice from a DataFrame\n",
      "\n",
      "See the caveats in the documentation: https://pandas.pydata.org/pandas-docs/stable/user_guide/indexing.html#returning-a-view-versus-a-copy\n",
      "  hurricanes_2[\"Date\"][j] = hurricanes_2[\"Date\"][j][5:]\n"
     ]
    }
   ],
   "metadata": {}
  },
  {
   "cell_type": "code",
   "execution_count": 6,
   "source": [
    "dji = same_day_algo(\"^DJI\")"
   ],
   "outputs": [
    {
     "output_type": "stream",
     "name": "stderr",
     "text": [
      "<ipython-input-4-acfe65e93c67>:22: SettingWithCopyWarning: \n",
      "A value is trying to be set on a copy of a slice from a DataFrame\n",
      "\n",
      "See the caveats in the documentation: https://pandas.pydata.org/pandas-docs/stable/user_guide/indexing.html#returning-a-view-versus-a-copy\n",
      "  hurricanes['Date'][x] = hurricanes['Date'][x].replace(\"00:00:00\", \"\").replace(\" \", \"\")\n",
      "<ipython-input-4-acfe65e93c67>:31: SettingWithCopyWarning: \n",
      "A value is trying to be set on a copy of a slice from a DataFrame\n",
      "\n",
      "See the caveats in the documentation: https://pandas.pydata.org/pandas-docs/stable/user_guide/indexing.html#returning-a-view-versus-a-copy\n",
      "  data['Date'][y] = datetime.datetime.strptime(data['Date'][y], \"%Y-%m-%d\")\n",
      "<ipython-input-4-acfe65e93c67>:60: SettingWithCopyWarning: \n",
      "A value is trying to be set on a copy of a slice from a DataFrame\n",
      "\n",
      "See the caveats in the documentation: https://pandas.pydata.org/pandas-docs/stable/user_guide/indexing.html#returning-a-view-versus-a-copy\n",
      "  hurricanes_2[\"Date\"][j] = hurricanes_2[\"Date\"][j][5:]\n"
     ]
    }
   ],
   "metadata": {}
  },
  {
   "cell_type": "code",
   "execution_count": 7,
   "source": [
    "rus2000 = same_day_algo(\"^RUT\")"
   ],
   "outputs": [
    {
     "output_type": "stream",
     "name": "stderr",
     "text": [
      "<ipython-input-4-acfe65e93c67>:22: SettingWithCopyWarning: \n",
      "A value is trying to be set on a copy of a slice from a DataFrame\n",
      "\n",
      "See the caveats in the documentation: https://pandas.pydata.org/pandas-docs/stable/user_guide/indexing.html#returning-a-view-versus-a-copy\n",
      "  hurricanes['Date'][x] = hurricanes['Date'][x].replace(\"00:00:00\", \"\").replace(\" \", \"\")\n",
      "<ipython-input-4-acfe65e93c67>:31: SettingWithCopyWarning: \n",
      "A value is trying to be set on a copy of a slice from a DataFrame\n",
      "\n",
      "See the caveats in the documentation: https://pandas.pydata.org/pandas-docs/stable/user_guide/indexing.html#returning-a-view-versus-a-copy\n",
      "  data['Date'][y] = datetime.datetime.strptime(data['Date'][y], \"%Y-%m-%d\")\n",
      "<ipython-input-4-acfe65e93c67>:60: SettingWithCopyWarning: \n",
      "A value is trying to be set on a copy of a slice from a DataFrame\n",
      "\n",
      "See the caveats in the documentation: https://pandas.pydata.org/pandas-docs/stable/user_guide/indexing.html#returning-a-view-versus-a-copy\n",
      "  hurricanes_2[\"Date\"][j] = hurricanes_2[\"Date\"][j][5:]\n"
     ]
    }
   ],
   "metadata": {}
  },
  {
   "cell_type": "code",
   "execution_count": 8,
   "source": [
    "rus3000 = same_day_algo(\"^RUA\")"
   ],
   "outputs": [
    {
     "output_type": "stream",
     "name": "stderr",
     "text": [
      "<ipython-input-4-acfe65e93c67>:22: SettingWithCopyWarning: \n",
      "A value is trying to be set on a copy of a slice from a DataFrame\n",
      "\n",
      "See the caveats in the documentation: https://pandas.pydata.org/pandas-docs/stable/user_guide/indexing.html#returning-a-view-versus-a-copy\n",
      "  hurricanes['Date'][x] = hurricanes['Date'][x].replace(\"00:00:00\", \"\").replace(\" \", \"\")\n",
      "<ipython-input-4-acfe65e93c67>:31: SettingWithCopyWarning: \n",
      "A value is trying to be set on a copy of a slice from a DataFrame\n",
      "\n",
      "See the caveats in the documentation: https://pandas.pydata.org/pandas-docs/stable/user_guide/indexing.html#returning-a-view-versus-a-copy\n",
      "  data['Date'][y] = datetime.datetime.strptime(data['Date'][y], \"%Y-%m-%d\")\n",
      "<ipython-input-4-acfe65e93c67>:60: SettingWithCopyWarning: \n",
      "A value is trying to be set on a copy of a slice from a DataFrame\n",
      "\n",
      "See the caveats in the documentation: https://pandas.pydata.org/pandas-docs/stable/user_guide/indexing.html#returning-a-view-versus-a-copy\n",
      "  hurricanes_2[\"Date\"][j] = hurricanes_2[\"Date\"][j][5:]\n"
     ]
    }
   ],
   "metadata": {}
  },
  {
   "cell_type": "code",
   "execution_count": 9,
   "source": [
    "rus1000 = same_day_algo(\"RUI\")"
   ],
   "outputs": [
    {
     "output_type": "stream",
     "name": "stderr",
     "text": [
      "<ipython-input-4-acfe65e93c67>:22: SettingWithCopyWarning: \n",
      "A value is trying to be set on a copy of a slice from a DataFrame\n",
      "\n",
      "See the caveats in the documentation: https://pandas.pydata.org/pandas-docs/stable/user_guide/indexing.html#returning-a-view-versus-a-copy\n",
      "  hurricanes['Date'][x] = hurricanes['Date'][x].replace(\"00:00:00\", \"\").replace(\" \", \"\")\n",
      "<ipython-input-4-acfe65e93c67>:31: SettingWithCopyWarning: \n",
      "A value is trying to be set on a copy of a slice from a DataFrame\n",
      "\n",
      "See the caveats in the documentation: https://pandas.pydata.org/pandas-docs/stable/user_guide/indexing.html#returning-a-view-versus-a-copy\n",
      "  data['Date'][y] = datetime.datetime.strptime(data['Date'][y], \"%Y-%m-%d\")\n",
      "<ipython-input-4-acfe65e93c67>:60: SettingWithCopyWarning: \n",
      "A value is trying to be set on a copy of a slice from a DataFrame\n",
      "\n",
      "See the caveats in the documentation: https://pandas.pydata.org/pandas-docs/stable/user_guide/indexing.html#returning-a-view-versus-a-copy\n",
      "  hurricanes_2[\"Date\"][j] = hurricanes_2[\"Date\"][j][5:]\n"
     ]
    }
   ],
   "metadata": {}
  },
  {
   "cell_type": "code",
   "execution_count": 15,
   "source": [
    "sandp.to_csv('same day sandp.csv')"
   ],
   "outputs": [],
   "metadata": {}
  },
  {
   "cell_type": "code",
   "execution_count": 16,
   "source": [
    "dji.to_csv('same day dji.csv')"
   ],
   "outputs": [],
   "metadata": {}
  },
  {
   "cell_type": "code",
   "execution_count": 17,
   "source": [
    "rus1000.to_csv('same day rus1000.csv')"
   ],
   "outputs": [],
   "metadata": {}
  },
  {
   "cell_type": "code",
   "execution_count": 19,
   "source": [
    "rus2000.to_csv('same day rus2000.csv')"
   ],
   "outputs": [],
   "metadata": {}
  },
  {
   "cell_type": "code",
   "execution_count": 20,
   "source": [
    "rus3000.to_csv('same day rus3000.csv')"
   ],
   "outputs": [],
   "metadata": {}
  },
  {
   "cell_type": "code",
   "execution_count": null,
   "source": [],
   "outputs": [],
   "metadata": {}
  }
 ],
 "metadata": {
  "kernelspec": {
   "display_name": "Python 3",
   "language": "python",
   "name": "python3"
  },
  "language_info": {
   "codemirror_mode": {
    "name": "ipython",
    "version": 3
   },
   "file_extension": ".py",
   "mimetype": "text/x-python",
   "name": "python",
   "nbconvert_exporter": "python",
   "pygments_lexer": "ipython3",
   "version": "3.8.5"
  }
 },
 "nbformat": 4,
 "nbformat_minor": 4
}